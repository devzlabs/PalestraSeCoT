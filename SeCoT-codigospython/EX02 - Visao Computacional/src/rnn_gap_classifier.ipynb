{
 "cells": [
  {
   "cell_type": "code",
   "execution_count": 1,
   "id": "73ffddae",
   "metadata": {},
   "outputs": [
    {
     "name": "stdout",
     "output_type": "stream",
     "text": [
      "WARNING:tensorflow:From C:\\Python\\lib\\site-packages\\keras\\src\\losses.py:2976: The name tf.losses.sparse_softmax_cross_entropy is deprecated. Please use tf.compat.v1.losses.sparse_softmax_cross_entropy instead.\n",
      "\n"
     ]
    }
   ],
   "source": [
    "#Imports\n",
    "import tensorflow as tf\n",
    "import keras as k\n",
    "from keras.models import Sequential\n",
    "from keras.layers import Conv2D\n",
    "from keras.layers import MaxPooling2D\n",
    "from keras.layers import Flatten\n",
    "from keras.layers import Dense\n",
    "\n",
    "from tensorflow.keras.models import load_model\n",
    "from tensorflow.keras.models import Model\n"
   ]
  },
  {
   "cell_type": "code",
   "execution_count": 2,
   "id": "2735b986",
   "metadata": {},
   "outputs": [
    {
     "name": "stdout",
     "output_type": "stream",
     "text": [
      "WARNING:tensorflow:From C:\\Python\\lib\\site-packages\\keras\\src\\backend.py:873: The name tf.get_default_graph is deprecated. Please use tf.compat.v1.get_default_graph instead.\n",
      "\n"
     ]
    }
   ],
   "source": [
    "#Inicia a rede convolucional\n",
    "classifier = Sequential()"
   ]
  },
  {
   "cell_type": "code",
   "execution_count": 3,
   "id": "52804415",
   "metadata": {},
   "outputs": [],
   "source": [
    "classifier.add(Conv2D(32, (3, 3), input_shape = (64, 64, 3), activation = 'relu'))"
   ]
  },
  {
   "cell_type": "code",
   "execution_count": 4,
   "id": "8d3a68df",
   "metadata": {},
   "outputs": [
    {
     "name": "stdout",
     "output_type": "stream",
     "text": [
      "WARNING:tensorflow:From C:\\Python\\lib\\site-packages\\keras\\src\\layers\\pooling\\max_pooling2d.py:161: The name tf.nn.max_pool is deprecated. Please use tf.nn.max_pool2d instead.\n",
      "\n"
     ]
    }
   ],
   "source": [
    "classifier.add(MaxPooling2D(pool_size= (2,2)))"
   ]
  },
  {
   "cell_type": "code",
   "execution_count": 5,
   "id": "f6db3a78",
   "metadata": {},
   "outputs": [],
   "source": [
    "#Setando a RNN -  Rede Neural Convolucional\n",
    "classifier.add(Conv2D(32, (3, 3), activation = 'relu'))"
   ]
  },
  {
   "cell_type": "code",
   "execution_count": 6,
   "id": "b6376611",
   "metadata": {},
   "outputs": [],
   "source": [
    "classifier.add(MaxPooling2D(pool_size = (2, 2)))"
   ]
  },
  {
   "cell_type": "code",
   "execution_count": 7,
   "id": "91160ef9",
   "metadata": {},
   "outputs": [],
   "source": [
    "classifier.add(Flatten())"
   ]
  },
  {
   "cell_type": "code",
   "execution_count": 8,
   "id": "60588cb9",
   "metadata": {},
   "outputs": [],
   "source": [
    "classifier.add(Dense(units = 128, activation = 'relu'))\n",
    "classifier.add(Dense(units = 1, activation = 'sigmoid'))"
   ]
  },
  {
   "cell_type": "code",
   "execution_count": 9,
   "id": "1d4e2a04",
   "metadata": {},
   "outputs": [
    {
     "name": "stdout",
     "output_type": "stream",
     "text": [
      "WARNING:tensorflow:From C:\\Python\\lib\\site-packages\\keras\\src\\optimizers\\__init__.py:309: The name tf.train.Optimizer is deprecated. Please use tf.compat.v1.train.Optimizer instead.\n",
      "\n"
     ]
    }
   ],
   "source": [
    "classifier.compile(optimizer = 'adam', loss = 'binary_crossentropy', metrics = ['accuracy'])"
   ]
  },
  {
   "cell_type": "code",
   "execution_count": 10,
   "id": "0c03aef8",
   "metadata": {},
   "outputs": [],
   "source": [
    "from keras.preprocessing.image import ImageDataGenerator\n",
    "\n",
    "train_datagen = ImageDataGenerator(rescale = 1./255,\n",
    "                                   shear_range = 0.2,\n",
    "                                   zoom_range = 0.2,\n",
    "                                   horizontal_flip = True)\n",
    "\n",
    "validation_datagen = ImageDataGenerator(rescale = 1./255)"
   ]
  },
  {
   "cell_type": "code",
   "execution_count": 11,
   "id": "6b666b95",
   "metadata": {},
   "outputs": [
    {
     "name": "stdout",
     "output_type": "stream",
     "text": [
      "Found 8 images belonging to 2 classes.\n",
      "Found 0 images belonging to 0 classes.\n"
     ]
    }
   ],
   "source": [
    "training_set = train_datagen.flow_from_directory('datasets/training/',\n",
    "                                                 target_size = (64, 64),\n",
    "                                                 batch_size = 4,\n",
    "                                                 class_mode = 'binary')\n",
    "\n",
    "validation_set = validation_datagen.flow_from_directory('datasets/classify',\n",
    "                                                        target_size = (64, 64),\n",
    "                                                        batch_size = 4,\n",
    "                                                        class_mode = 'binary')"
   ]
  },
  {
   "cell_type": "code",
   "execution_count": 12,
   "id": "fc1cade6",
   "metadata": {},
   "outputs": [
    {
     "name": "stderr",
     "output_type": "stream",
     "text": [
      "C:\\Users\\juliano.ferreira\\AppData\\Local\\Temp\\ipykernel_18328\\3302451292.py:1: UserWarning: `Model.fit_generator` is deprecated and will be removed in a future version. Please use `Model.fit`, which supports generators.\n",
      "  classifier.fit_generator(training_set,\n"
     ]
    },
    {
     "name": "stdout",
     "output_type": "stream",
     "text": [
      "Epoch 1/25\n",
      "WARNING:tensorflow:From C:\\Python\\lib\\site-packages\\keras\\src\\utils\\tf_utils.py:492: The name tf.ragged.RaggedTensorValue is deprecated. Please use tf.compat.v1.ragged.RaggedTensorValue instead.\n",
      "\n",
      "WARNING:tensorflow:From C:\\Python\\lib\\site-packages\\keras\\src\\engine\\base_layer_utils.py:384: The name tf.executing_eagerly_outside_functions is deprecated. Please use tf.compat.v1.executing_eagerly_outside_functions instead.\n",
      "\n",
      "2/2 [==============================] - 2s 34ms/step - loss: 1.0279 - accuracy: 0.5000\n",
      "Epoch 2/25\n",
      "2/2 [==============================] - 0s 26ms/step - loss: 0.7565 - accuracy: 0.5000\n",
      "Epoch 3/25\n",
      "2/2 [==============================] - 0s 78ms/step - loss: 0.7949 - accuracy: 0.5000\n",
      "Epoch 4/25\n",
      "2/2 [==============================] - 0s 25ms/step - loss: 0.7171 - accuracy: 0.5000\n",
      "Epoch 5/25\n",
      "2/2 [==============================] - 0s 32ms/step - loss: 0.7128 - accuracy: 0.5000\n",
      "Epoch 6/25\n",
      "2/2 [==============================] - 0s 24ms/step - loss: 0.6817 - accuracy: 0.7500\n",
      "Epoch 7/25\n",
      "2/2 [==============================] - 0s 24ms/step - loss: 0.7128 - accuracy: 0.5000\n",
      "Epoch 8/25\n",
      "2/2 [==============================] - 0s 28ms/step - loss: 0.6836 - accuracy: 0.5000\n",
      "Epoch 9/25\n",
      "2/2 [==============================] - 0s 25ms/step - loss: 0.6714 - accuracy: 0.5000\n",
      "Epoch 10/25\n",
      "2/2 [==============================] - 0s 27ms/step - loss: 0.6603 - accuracy: 0.5000\n",
      "Epoch 11/25\n",
      "2/2 [==============================] - 0s 28ms/step - loss: 0.6633 - accuracy: 0.5000\n",
      "Epoch 12/25\n",
      "2/2 [==============================] - 0s 30ms/step - loss: 0.6280 - accuracy: 0.5000\n",
      "Epoch 13/25\n",
      "2/2 [==============================] - 0s 21ms/step - loss: 0.6313 - accuracy: 0.6250\n",
      "Epoch 14/25\n",
      "2/2 [==============================] - 0s 29ms/step - loss: 0.5974 - accuracy: 0.8750\n",
      "Epoch 15/25\n",
      "2/2 [==============================] - 0s 25ms/step - loss: 0.5480 - accuracy: 1.0000\n",
      "Epoch 16/25\n",
      "2/2 [==============================] - 0s 24ms/step - loss: 0.4906 - accuracy: 1.0000\n",
      "Epoch 17/25\n",
      "2/2 [==============================] - 0s 23ms/step - loss: 0.4173 - accuracy: 1.0000\n",
      "Epoch 18/25\n",
      "2/2 [==============================] - 0s 25ms/step - loss: 0.3560 - accuracy: 1.0000\n",
      "Epoch 19/25\n",
      "2/2 [==============================] - 0s 31ms/step - loss: 0.4087 - accuracy: 0.8750\n",
      "Epoch 20/25\n",
      "2/2 [==============================] - 0s 18ms/step - loss: 0.2670 - accuracy: 1.0000\n",
      "Epoch 21/25\n",
      "2/2 [==============================] - 0s 26ms/step - loss: 0.2423 - accuracy: 1.0000\n",
      "Epoch 22/25\n",
      "2/2 [==============================] - 0s 23ms/step - loss: 0.1740 - accuracy: 1.0000\n",
      "Epoch 23/25\n",
      "2/2 [==============================] - 0s 29ms/step - loss: 0.1285 - accuracy: 1.0000\n",
      "Epoch 24/25\n",
      "2/2 [==============================] - 0s 27ms/step - loss: 0.0733 - accuracy: 1.0000\n",
      "Epoch 25/25\n",
      "2/2 [==============================] - 0s 29ms/step - loss: 0.1592 - accuracy: 0.8750\n"
     ]
    },
    {
     "data": {
      "text/plain": [
       "<keras.src.callbacks.History at 0x1fcd445b4c0>"
      ]
     },
     "execution_count": 12,
     "metadata": {},
     "output_type": "execute_result"
    }
   ],
   "source": [
    "classifier.fit_generator(training_set,\n",
    "                         steps_per_epoch = 2,\n",
    "                         epochs = 25,\n",
    "                         validation_data = validation_set,\n",
    "                         validation_steps = 5)"
   ]
  },
  {
   "cell_type": "code",
   "execution_count": 13,
   "id": "55aae7af",
   "metadata": {},
   "outputs": [],
   "source": [
    "saved = load_model('model/gaps_detect.h5')"
   ]
  },
  {
   "cell_type": "code",
   "execution_count": 14,
   "id": "f858dfa3",
   "metadata": {},
   "outputs": [
    {
     "name": "stdout",
     "output_type": "stream",
     "text": [
      "Model: \"sequential\"\n",
      "_________________________________________________________________\n",
      " Layer (type)                Output Shape              Param #   \n",
      "=================================================================\n",
      " conv2d (Conv2D)             (None, 62, 62, 32)        896       \n",
      "                                                                 \n",
      " max_pooling2d (MaxPooling2  (None, 31, 31, 32)        0         \n",
      " D)                                                              \n",
      "                                                                 \n",
      " conv2d_1 (Conv2D)           (None, 29, 29, 32)        9248      \n",
      "                                                                 \n",
      " max_pooling2d_1 (MaxPoolin  (None, 14, 14, 32)        0         \n",
      " g2D)                                                            \n",
      "                                                                 \n",
      " flatten (Flatten)           (None, 6272)              0         \n",
      "                                                                 \n",
      " dense (Dense)               (None, 128)               802944    \n",
      "                                                                 \n",
      " dense_1 (Dense)             (None, 1)                 129       \n",
      "                                                                 \n",
      "=================================================================\n",
      "Total params: 813217 (3.10 MB)\n",
      "Trainable params: 813217 (3.10 MB)\n",
      "Non-trainable params: 0 (0.00 Byte)\n",
      "_________________________________________________________________\n"
     ]
    }
   ],
   "source": [
    "saved.summary()"
   ]
  },
  {
   "cell_type": "code",
   "execution_count": null,
   "id": "ac383744",
   "metadata": {},
   "outputs": [],
   "source": []
  }
 ],
 "metadata": {
  "kernelspec": {
   "display_name": "Python 3 (ipykernel)",
   "language": "python",
   "name": "python3"
  },
  "language_info": {
   "codemirror_mode": {
    "name": "ipython",
    "version": 3
   },
   "file_extension": ".py",
   "mimetype": "text/x-python",
   "name": "python",
   "nbconvert_exporter": "python",
   "pygments_lexer": "ipython3",
   "version": "3.10.10"
  }
 },
 "nbformat": 4,
 "nbformat_minor": 5
}
