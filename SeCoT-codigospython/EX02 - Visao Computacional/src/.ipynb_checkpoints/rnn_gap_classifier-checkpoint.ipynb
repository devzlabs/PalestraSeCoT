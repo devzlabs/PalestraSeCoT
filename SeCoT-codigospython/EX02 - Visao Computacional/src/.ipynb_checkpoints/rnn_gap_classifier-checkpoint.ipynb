{
 "cells": [
  {
   "cell_type": "code",
   "execution_count": 1,
   "id": "73ffddae",
   "metadata": {},
   "outputs": [],
   "source": [
    "#Imports\n",
    "import tensorflow as tf\n",
    "import keras as k\n",
    "from keras.models import Sequential\n",
    "from keras.layers import Conv2D\n",
    "from keras.layers import MaxPooling2D\n",
    "from keras.layers import Flatten\n",
    "from keras.layers import Dense\n",
    "\n",
    "from tensorflow.keras.models import load_model\n",
    "from tensorflow.keras.models import Model\n"
   ]
  },
  {
   "cell_type": "code",
   "execution_count": 2,
   "id": "2735b986",
   "metadata": {},
   "outputs": [],
   "source": [
    "#Inicia a rede convolucional\n",
    "classifier = Sequential()"
   ]
  },
  {
   "cell_type": "code",
   "execution_count": 3,
   "id": "52804415",
   "metadata": {},
   "outputs": [],
   "source": [
    "classifier.add(Conv2D(32, (3, 3), input_shape = (64, 64, 3), activation = 'relu'))"
   ]
  },
  {
   "cell_type": "code",
   "execution_count": 4,
   "id": "8d3a68df",
   "metadata": {},
   "outputs": [],
   "source": [
    "classifier.add(MaxPooling2D(pool_size= (2,2)))"
   ]
  },
  {
   "cell_type": "code",
   "execution_count": 5,
   "id": "f6db3a78",
   "metadata": {},
   "outputs": [],
   "source": [
    "classifier.add(Conv2D(32, (3, 3), activation = 'relu'))"
   ]
  },
  {
   "cell_type": "code",
   "execution_count": 6,
   "id": "b6376611",
   "metadata": {},
   "outputs": [],
   "source": [
    "classifier.add(MaxPooling2D(pool_size = (2, 2)))"
   ]
  },
  {
   "cell_type": "code",
   "execution_count": 7,
   "id": "91160ef9",
   "metadata": {},
   "outputs": [],
   "source": [
    "classifier.add(Flatten())"
   ]
  },
  {
   "cell_type": "code",
   "execution_count": 8,
   "id": "60588cb9",
   "metadata": {},
   "outputs": [],
   "source": [
    "classifier.add(Dense(units = 128, activation = 'relu'))\n",
    "classifier.add(Dense(units = 1, activation = 'sigmoid'))"
   ]
  },
  {
   "cell_type": "code",
   "execution_count": 9,
   "id": "1d4e2a04",
   "metadata": {},
   "outputs": [],
   "source": [
    "classifier.compile(optimizer = 'adam', loss = 'binary_crossentropy', metrics = ['accuracy'])"
   ]
  },
  {
   "cell_type": "code",
   "execution_count": 10,
   "id": "0c03aef8",
   "metadata": {},
   "outputs": [],
   "source": [
    "from keras.preprocessing.image import ImageDataGenerator\n",
    "\n",
    "train_datagen = ImageDataGenerator(rescale = 1./255,\n",
    "                                   shear_range = 0.2,\n",
    "                                   zoom_range = 0.2,\n",
    "                                   horizontal_flip = True)\n",
    "\n",
    "validation_datagen = ImageDataGenerator(rescale = 1./255)"
   ]
  },
  {
   "cell_type": "code",
   "execution_count": 11,
   "id": "6b666b95",
   "metadata": {},
   "outputs": [
    {
     "name": "stdout",
     "output_type": "stream",
     "text": [
      "Found 8 images belonging to 2 classes.\n",
      "Found 7 images belonging to 2 classes.\n"
     ]
    }
   ],
   "source": [
    "training_set = train_datagen.flow_from_directory('datasets/training/',\n",
    "                                                 target_size = (64, 64),\n",
    "                                                 batch_size = 4,\n",
    "                                                 class_mode = 'binary')\n",
    "\n",
    "validation_set = validation_datagen.flow_from_directory('datasets/classify',\n",
    "                                                        target_size = (64, 64),\n",
    "                                                        batch_size = 4,\n",
    "                                                        class_mode = 'binary')"
   ]
  },
  {
   "cell_type": "code",
   "execution_count": 12,
   "id": "fc1cade6",
   "metadata": {},
   "outputs": [
    {
     "name": "stdout",
     "output_type": "stream",
     "text": [
      "Epoch 1/25\n"
     ]
    },
    {
     "name": "stderr",
     "output_type": "stream",
     "text": [
      "C:\\Users\\juliano.ferreira\\AppData\\Local\\Temp\\ipykernel_8776\\3302451292.py:1: UserWarning: `Model.fit_generator` is deprecated and will be removed in a future version. Please use `Model.fit`, which supports generators.\n",
      "  classifier.fit_generator(training_set,\n"
     ]
    },
    {
     "name": "stdout",
     "output_type": "stream",
     "text": [
      "1/2 [==============>...............] - ETA: 0s - loss: 0.6925 - accuracy: 0.5000WARNING:tensorflow:Your input ran out of data; interrupting training. Make sure that your dataset or generator can generate at least `steps_per_epoch * epochs` batches (in this case, 5 batches). You may need to use the repeat() function when building your dataset.\n",
      "2/2 [==============================] - 1s 808ms/step - loss: 1.5099 - accuracy: 0.5000 - val_loss: 0.6756 - val_accuracy: 0.5714\n",
      "Epoch 2/25\n",
      "2/2 [==============================] - 0s 23ms/step - loss: 0.7629 - accuracy: 0.5000\n",
      "Epoch 3/25\n",
      "2/2 [==============================] - 0s 21ms/step - loss: 0.7962 - accuracy: 0.5000\n",
      "Epoch 4/25\n",
      "2/2 [==============================] - 0s 24ms/step - loss: 0.6944 - accuracy: 0.5000\n",
      "Epoch 5/25\n",
      "2/2 [==============================] - 0s 22ms/step - loss: 0.6899 - accuracy: 0.5000\n",
      "Epoch 6/25\n",
      "2/2 [==============================] - 0s 20ms/step - loss: 0.6875 - accuracy: 0.5000\n",
      "Epoch 7/25\n",
      "2/2 [==============================] - 0s 19ms/step - loss: 0.6868 - accuracy: 0.6250\n",
      "Epoch 8/25\n",
      "2/2 [==============================] - 0s 20ms/step - loss: 0.6915 - accuracy: 0.5000\n",
      "Epoch 9/25\n",
      "2/2 [==============================] - 0s 20ms/step - loss: 0.6847 - accuracy: 0.5000\n",
      "Epoch 10/25\n",
      "2/2 [==============================] - 0s 21ms/step - loss: 0.6746 - accuracy: 0.6250\n",
      "Epoch 11/25\n",
      "2/2 [==============================] - 0s 21ms/step - loss: 0.6739 - accuracy: 0.6250\n",
      "Epoch 12/25\n",
      "2/2 [==============================] - 0s 22ms/step - loss: 0.6604 - accuracy: 0.6250\n",
      "Epoch 13/25\n",
      "2/2 [==============================] - 0s 21ms/step - loss: 0.6551 - accuracy: 0.6250\n",
      "Epoch 14/25\n",
      "2/2 [==============================] - 0s 21ms/step - loss: 0.6308 - accuracy: 0.6250\n",
      "Epoch 15/25\n",
      "2/2 [==============================] - 0s 21ms/step - loss: 0.6125 - accuracy: 0.6250\n",
      "Epoch 16/25\n",
      "2/2 [==============================] - 0s 21ms/step - loss: 0.5681 - accuracy: 0.7500\n",
      "Epoch 17/25\n",
      "2/2 [==============================] - 0s 19ms/step - loss: 0.5406 - accuracy: 0.7500\n",
      "Epoch 18/25\n",
      "2/2 [==============================] - 0s 20ms/step - loss: 0.5073 - accuracy: 0.8750\n",
      "Epoch 19/25\n",
      "2/2 [==============================] - 0s 20ms/step - loss: 0.4640 - accuracy: 1.0000\n",
      "Epoch 20/25\n",
      "2/2 [==============================] - 0s 21ms/step - loss: 0.3910 - accuracy: 1.0000\n",
      "Epoch 21/25\n",
      "2/2 [==============================] - 0s 19ms/step - loss: 0.3381 - accuracy: 1.0000\n",
      "Epoch 22/25\n",
      "2/2 [==============================] - 0s 21ms/step - loss: 0.2648 - accuracy: 1.0000\n",
      "Epoch 23/25\n",
      "2/2 [==============================] - 0s 19ms/step - loss: 0.2746 - accuracy: 1.0000\n",
      "Epoch 24/25\n",
      "2/2 [==============================] - 0s 20ms/step - loss: 0.1874 - accuracy: 1.0000\n",
      "Epoch 25/25\n",
      "2/2 [==============================] - 0s 19ms/step - loss: 0.1693 - accuracy: 1.0000\n"
     ]
    },
    {
     "data": {
      "text/plain": [
       "<keras.src.callbacks.History at 0x1e1c19221d0>"
      ]
     },
     "execution_count": 12,
     "metadata": {},
     "output_type": "execute_result"
    }
   ],
   "source": [
    "classifier.fit_generator(training_set,\n",
    "                         steps_per_epoch = 2,\n",
    "                         epochs = 25,\n",
    "                         validation_data = validation_set,\n",
    "                         validation_steps = 5)"
   ]
  },
  {
   "cell_type": "code",
   "execution_count": 13,
   "id": "55aae7af",
   "metadata": {},
   "outputs": [],
   "source": [
    "saved = load_model('model/gaps_detect.h5')"
   ]
  },
  {
   "cell_type": "code",
   "execution_count": 14,
   "id": "f858dfa3",
   "metadata": {},
   "outputs": [
    {
     "name": "stdout",
     "output_type": "stream",
     "text": [
      "Model: \"sequential\"\n",
      "_________________________________________________________________\n",
      " Layer (type)                Output Shape              Param #   \n",
      "=================================================================\n",
      " conv2d (Conv2D)             (None, 62, 62, 32)        896       \n",
      "                                                                 \n",
      " max_pooling2d (MaxPooling2  (None, 31, 31, 32)        0         \n",
      " D)                                                              \n",
      "                                                                 \n",
      " conv2d_1 (Conv2D)           (None, 29, 29, 32)        9248      \n",
      "                                                                 \n",
      " max_pooling2d_1 (MaxPoolin  (None, 14, 14, 32)        0         \n",
      " g2D)                                                            \n",
      "                                                                 \n",
      " flatten (Flatten)           (None, 6272)              0         \n",
      "                                                                 \n",
      " dense (Dense)               (None, 128)               802944    \n",
      "                                                                 \n",
      " dense_1 (Dense)             (None, 1)                 129       \n",
      "                                                                 \n",
      "=================================================================\n",
      "Total params: 813217 (3.10 MB)\n",
      "Trainable params: 813217 (3.10 MB)\n",
      "Non-trainable params: 0 (0.00 Byte)\n",
      "_________________________________________________________________\n"
     ]
    }
   ],
   "source": [
    "saved.summary()"
   ]
  }
 ],
 "metadata": {
  "kernelspec": {
   "display_name": "Python 3 (ipykernel)",
   "language": "python",
   "name": "python3"
  },
  "language_info": {
   "codemirror_mode": {
    "name": "ipython",
    "version": 3
   },
   "file_extension": ".py",
   "mimetype": "text/x-python",
   "name": "python",
   "nbconvert_exporter": "python",
   "pygments_lexer": "ipython3",
   "version": "3.10.10"
  }
 },
 "nbformat": 4,
 "nbformat_minor": 5
}
